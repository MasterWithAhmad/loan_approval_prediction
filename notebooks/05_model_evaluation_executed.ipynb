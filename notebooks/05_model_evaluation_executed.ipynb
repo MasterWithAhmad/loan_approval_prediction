{
 "cells": [
  {
   "cell_type": "code",
   "execution_count": 1,
   "id": "3cb063f4",
   "metadata": {
    "execution": {
     "iopub.execute_input": "2025-01-16T13:35:26.878309Z",
     "iopub.status.busy": "2025-01-16T13:35:26.878309Z",
     "iopub.status.idle": "2025-01-16T13:35:37.765219Z",
     "shell.execute_reply": "2025-01-16T13:35:37.765219Z"
    },
    "papermill": {
     "duration": 10.895142,
     "end_time": "2025-01-16T13:35:37.773451",
     "exception": false,
     "start_time": "2025-01-16T13:35:26.878309",
     "status": "completed"
    },
    "tags": []
   },
   "outputs": [
    {
     "name": "stdout",
     "output_type": "stream",
     "text": [
      "Classification Report:\n",
      "              precision    recall  f1-score   support\n",
      "\n",
      "       False       0.84      0.48      0.61        65\n",
      "        True       0.77      0.95      0.85       120\n",
      "\n",
      "    accuracy                           0.78       185\n",
      "   macro avg       0.80      0.71      0.73       185\n",
      "weighted avg       0.79      0.78      0.77       185\n",
      "\n"
     ]
    },
    {
     "data": {
      "image/png": "[encoded data removed]",
      "text/plain": [
       "<Figure size 640x480 with 2 Axes>"
      ]
     },
     "metadata": {},
     "output_type": "display_data"
    }
   ],
   "source": [
    "import joblib\n",
    "from sklearn.metrics import classification_report, confusion_matrix\n",
    "import seaborn as sns\n",
    "import matplotlib.pyplot as plt\n",
    "\n",
    "# Load the model and test data\n",
    "model = joblib.load('../data/model.pkl')\n",
    "X_test, y_test = joblib.load('../data/test_data.pkl')\n",
    "\n",
    "# Predictions\n",
    "y_pred = model.predict(X_test)\n",
    "\n",
    "# Evaluation metrics\n",
    "print(\"Classification Report:\")\n",
    "print(classification_report(y_test, y_pred))\n",
    "\n",
    "# Confusion matrix\n",
    "cm = confusion_matrix(y_test, y_pred)\n",
    "sns.heatmap(cm, annot=True, fmt='d', cmap=\"Blues\")\n",
    "plt.title(\"Confusion Matrix\")\n",
    "plt.show()"
   ]
  },
  {
   "cell_type": "code",
   "execution_count": 2,
   "id": "4dc2d8bd",
   "metadata": {
    "execution": {
     "iopub.execute_input": "2025-01-16T13:35:37.791445Z",
     "iopub.status.busy": "2025-01-16T13:35:37.790446Z",
     "iopub.status.idle": "2025-01-16T13:35:37.933806Z",
     "shell.execute_reply": "2025-01-16T13:35:37.933806Z"
    },
    "papermill": {
     "duration": 0.154359,
     "end_time": "2025-01-16T13:35:37.933806",
     "exception": false,
     "start_time": "2025-01-16T13:35:37.779447",
     "status": "completed"
    },
    "tags": []
   },
   "outputs": [
    {
     "name": "stdout",
     "output_type": "stream",
     "text": [
      "Sample 1: Loan Approved? Yes\n",
      "Sample 2: Loan Approved? No\n",
      "Sample 3: Loan Approved? Yes\n",
      "Sample 4: Loan Approved? Yes\n",
      "Sample 5: Loan Approved? Yes\n",
      "Sample 6: Loan Approved? Yes\n",
      "Sample 7: Loan Approved? Yes\n",
      "Sample 8: Loan Approved? No\n",
      "Sample 9: Loan Approved? Yes\n",
      "Sample 10: Loan Approved? Yes\n"
     ]
    }
   ],
   "source": [
    "import pandas as pd\n",
    "# Load test data\n",
    "test_data = pd.read_csv('../data/processed_loan_data.csv')\n",
    "\n",
    "# Separate features and labels\n",
    "X_test = test_data.drop(columns=['Loan_Status_Y'])\n",
    "y_test = test_data['Loan_Status_Y']\n",
    "\n",
    "# Make predictions on the test set\n",
    "predictions = model.predict(X_test)\n",
    "\n",
    "# Map predictions to 'Yes' and 'No'\n",
    "results = ['Yes' if pred == 1 else 'No' for pred in predictions]\n",
    "\n",
    "# Show the first 10 predictions\n",
    "for i, result in enumerate(results[:10]):\n",
    "    print(f\"Sample {i+1}: Loan Approved? {result}\")"
   ]
  }
 ],
 "metadata": {
  "kernelspec": {
   "display_name": "base",
   "language": "python",
   "name": "python3"
  },
  "language_info": {
   "codemirror_mode": {
    "name": "ipython",
    "version": 3
   },
   "file_extension": ".py",
   "mimetype": "text/x-python",
   "name": "python",
   "nbconvert_exporter": "python",
   "pygments_lexer": "ipython3",
   "version": "3.12.4"
  },
  "papermill": {
   "default_parameters": {},
   "duration": 19.317911,
   "end_time": "2025-01-16T13:35:39.004562",
   "environment_variables": {},
   "exception": null,
   "input_path": "05_model_evaluation.ipynb",
   "output_path": "05_model_evaluation_executed.ipynb",
   "parameters": {},
   "start_time": "2025-01-16T13:35:19.686651",
   "version": "2.6.0"
  }
 },
 "nbformat": 4,
 "nbformat_minor": 5
}