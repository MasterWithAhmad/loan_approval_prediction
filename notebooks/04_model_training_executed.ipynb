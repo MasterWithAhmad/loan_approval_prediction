{
 "cells": [
  {
   "cell_type": "code",
   "execution_count": 1,
   "id": "18071cdc",
   "metadata": {
    "execution": {
     "iopub.execute_input": "2025-01-16T13:35:11.196656Z",
     "iopub.status.busy": "2025-01-16T13:35:11.196656Z",
     "iopub.status.idle": "2025-01-16T13:35:18.737626Z",
     "shell.execute_reply": "2025-01-16T13:35:18.737626Z"
    },
    "papermill": {
     "duration": 7.54097,
     "end_time": "2025-01-16T13:35:18.737626",
     "exception": false,
     "start_time": "2025-01-16T13:35:11.196656",
     "status": "completed"
    },
    "tags": []
   },
   "outputs": [
    {
     "name": "stdout",
     "output_type": "stream",
     "text": [
      "Model trained and saved successfully.\n"
     ]
    }
   ],
   "source": [
    "import pandas as pd\n",
    "from sklearn.model_selection import train_test_split\n",
    "from sklearn.ensemble import RandomForestClassifier\n",
    "import joblib\n",
    "\n",
    "# Load the preprocessed data\n",
    "file_path = \"../data/processed_loan_data.csv\"\n",
    "df = pd.read_csv(file_path)\n",
    "\n",
    "# Split into features and target\n",
    "X = df.drop(columns=['Loan_Status_Y'])  # Adjust based on the one-hot encoding\n",
    "y = df['Loan_Status_Y']\n",
    "\n",
    "# Train-test split\n",
    "X_train, X_test, y_train, y_test = train_test_split(X, y, test_size=0.3, random_state=42)\n",
    "\n",
    "# Model training\n",
    "model = RandomForestClassifier(random_state=42)\n",
    "model.fit(X_train, y_train)\n",
    "\n",
    "# Save the model and test data\n",
    "joblib.dump(model, '../data/model.pkl')\n",
    "joblib.dump((X_test, y_test), '../data/test_data.pkl')\n",
    "\n",
    "print(\"Model trained and saved successfully.\")"
   ]
  }
 ],
 "metadata": {
  "kernelspec": {
   "display_name": "base",
   "language": "python",
   "name": "python3"
  },
  "language_info": {
   "codemirror_mode": {
    "name": "ipython",
    "version": 3
   },
   "file_extension": ".py",
   "mimetype": "text/x-python",
   "name": "python",
   "nbconvert_exporter": "python",
   "pygments_lexer": "ipython3",
   "version": "3.12.4"
  },
  "papermill": {
   "default_parameters": {},
   "duration": 14.81244,
   "end_time": "2025-01-16T13:35:19.664030",
   "environment_variables": {},
   "exception": null,
   "input_path": "04_model_training.ipynb",
   "output_path": "04_model_training_executed.ipynb",
   "parameters": {},
   "start_time": "2025-01-16T13:35:04.851590",
   "version": "2.6.0"
  }
 },
 "nbformat": 4,
 "nbformat_minor": 5
}